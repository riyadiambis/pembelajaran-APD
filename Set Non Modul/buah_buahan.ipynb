{
 "cells": [
  {
   "cell_type": "markdown",
   "id": "e1d5a5f4",
   "metadata": {},
   "source": [
    "# contoh misalnya set tentang buah"
   ]
  },
  {
   "cell_type": "code",
   "execution_count": 4,
   "id": "5eecbca0",
   "metadata": {},
   "outputs": [],
   "source": [
    "buah1= {'Anggur','Apel','Jeruk'}\n",
    "buah2 = {'Kiwi','Melon','Pisang'}\n",
    "buah3 = {'Apel','Srikaya','Semangka'}"
   ]
  },
  {
   "cell_type": "markdown",
   "id": "29b3892c",
   "metadata": {},
   "source": [
    "### 1. Disjoint\n",
    "diagram ven\n",
    "\n",
    "Mengembalikan hasil penggabungan (union) dari dua buah set."
   ]
  },
  {
   "cell_type": "code",
   "execution_count": 5,
   "id": "7f4c07cb",
   "metadata": {},
   "outputs": [
    {
     "name": "stdout",
     "output_type": "stream",
     "text": [
      "True\n"
     ]
    }
   ],
   "source": [
    "buah1_buah2_disjoint = buah1.isdisjoint(buah2)\n",
    "print(buah1_buah2_disjoint)"
   ]
  },
  {
   "cell_type": "code",
   "execution_count": 6,
   "id": "e4a0da68",
   "metadata": {},
   "outputs": [
    {
     "name": "stdout",
     "output_type": "stream",
     "text": [
      "False\n"
     ]
    }
   ],
   "source": [
    "buah1_buah3_disjoint = buah1.isdisjoint(buah3)\n",
    "print(buah1_buah3_disjoint)"
   ]
  },
  {
   "cell_type": "markdown",
   "id": "f44976a9",
   "metadata": {},
   "source": [
    "### Isdisjoint\t\n",
    "Mengembalikan nilai kebenaran apakah suatu set disjoint (saling lepas/tidak mengandung elemen yang sama) dengan set lainnya."
   ]
  },
  {
   "cell_type": "code",
   "execution_count": 7,
   "id": "a4e85263",
   "metadata": {},
   "outputs": [],
   "source": [
    "parcel1 = {'Anggur','Apel','Jeruk'}\n",
    "parcel2 = {'Kiwi','Melon','Pisang'}\n",
    "parcel3 = {'Apel','Srikaya','Semangka'}"
   ]
  },
  {
   "cell_type": "code",
   "execution_count": 8,
   "id": "75d5abfb",
   "metadata": {},
   "outputs": [
    {
     "name": "stdout",
     "output_type": "stream",
     "text": [
      "True\n",
      "False\n"
     ]
    }
   ],
   "source": [
    "parcel1_parcel2_disjoint = parcel1.isdisjoint(parcel2)\n",
    "print(parcel1_parcel2_disjoint)\n",
    "parcel1_parcel3_disjoint = parcel1.isdisjoint(parcel3)\n",
    "print(parcel1_parcel3_disjoint)"
   ]
  },
  {
   "cell_type": "markdown",
   "id": "6b291383",
   "metadata": {},
   "source": [
    "### Issubset\n",
    "Mengembalikan nilai kebenaran apakah sebuah set merupakan subset dari set lainnya. Sebuah set A merupakan subset dari set B jika seluruh elemen dari set A merupakan bagian dari set B"
   ]
  },
  {
   "cell_type": "code",
   "execution_count": 9,
   "id": "9ce61210",
   "metadata": {},
   "outputs": [],
   "source": [
    "parcel_A = {'Anggur', 'Apel'}\n",
    "parcel_B = {'Durian','Semangka','Apel'}\n",
    "parcel_C = {'Anggur', 'Kiwi', 'Apel', 'Jeruk', 'Melon'}"
   ]
  },
  {
   "cell_type": "code",
   "execution_count": 10,
   "id": "817d1af5",
   "metadata": {},
   "outputs": [
    {
     "name": "stdout",
     "output_type": "stream",
     "text": [
      "True\n",
      "False\n"
     ]
    }
   ],
   "source": [
    "parcel_A_dalam_C = parcel_A.issubset(parcel_C)\n",
    "parcel_B_dalam_C = parcel_B.issubset(parcel_C)\n",
    "print(parcel_A_dalam_C)\n",
    "print(parcel_B_dalam_C)"
   ]
  },
  {
   "cell_type": "markdown",
   "id": "940b000f",
   "metadata": {},
   "source": [
    "### Issuperset\n",
    "Mengembalikan nilai kebenaran apakah sebuah set merupakan superset dari set lainnya. Sebuah set A merupakan superset dari set B jika seluruh elemen dari set B terkandung dalam set A."
   ]
  },
  {
   "cell_type": "code",
   "execution_count": 11,
   "id": "5fed9541",
   "metadata": {},
   "outputs": [
    {
     "name": "stdout",
     "output_type": "stream",
     "text": [
      "True\n",
      "False\n"
     ]
    }
   ],
   "source": [
    "parcel_C_mengandung_A = parcel_C.issuperset(parcel_A)\n",
    "parcel_C_mengandung_B = parcel_C.issuperset(parcel_B)\n",
    "print(parcel_C_mengandung_A)\n",
    "print(parcel_C_mengandung_B)"
   ]
  },
  {
   "cell_type": "markdown",
   "id": "72183b47",
   "metadata": {},
   "source": [
    "### Isintersection\n",
    "Mengembalikan sebuah set yang merupakan intersection dari dua set lainnya."
   ]
  },
  {
   "cell_type": "code",
   "execution_count": null,
   "id": "42a47212",
   "metadata": {},
   "outputs": [],
   "source": [
    "parcel_A = {'Anggur', 'Kiwi', 'Apel', 'Jeruk', 'Melon'}\n",
    "parcel_B = {'Apel', 'Jeruk', 'Semangka', 'Durian', 'Tomat'}\n",
    "parcel_C = parcel_A.intersection(parcel_B)\n",
    "print(parcel_C)"
   ]
  },
  {
   "cell_type": "markdown",
   "id": "cfad87d2",
   "metadata": {},
   "source": [
    "## difference\n",
    "\n",
    "Mengembalikan sebuah set yang berisikan difference dari dua set lainnya. Difference dari sebuah set A berdasarkan set B adalah setiap elemen yang terdapat di set A tetapi tidak terdapat di set B."
   ]
  },
  {
   "cell_type": "code",
   "execution_count": null,
   "id": "03d638eb",
   "metadata": {},
   "outputs": [],
   "source": [
    "parcel_C = parcel_A.difference(parcel_B)\n",
    "print(parcel_C)   "
   ]
  },
  {
   "cell_type": "markdown",
   "id": "2d97c7d1",
   "metadata": {},
   "source": [
    "### symmetric_difference\n",
    "\n",
    "Mengembalikan sebuah set yang berisikan symmetric difference dari dua set lainnya. Symmetric difference dari sebuah set A dan B adalah setiap elemen dari set A yang tidak terdapat di set B digabungkan dengan (union) setiap elemen dari set B yang tidak terdapat di set A."
   ]
  },
  {
   "cell_type": "code",
   "execution_count": null,
   "id": "4055b71e",
   "metadata": {},
   "outputs": [],
   "source": [
    "parcel_A = {'Anggur', 'Apel', 'Jeruk', 'Melon'}\n",
    "parcel_B = {'Apel','Jeruk','Semangka','Leci'}\n",
    "parcel_C = parcel_A.symmetric_difference(parcel_B)\n",
    "print(parcel_C)"
   ]
  },
  {
   "cell_type": "code",
   "execution_count": 12,
   "id": "b09e3c92",
   "metadata": {},
   "outputs": [
    {
     "name": "stdout",
     "output_type": "stream",
     "text": [
      "{'Durian'}\n"
     ]
    }
   ],
   "source": [
    "set_buah1 = {'Jeruk','Apel','Anggur'}\n",
    "set_buah2 = set_buah1\n",
    "set_buah1.clear()\n",
    "set_buah2.add('Durian')\n",
    "print(set_buah1)"
   ]
  }
 ],
 "metadata": {
  "kernelspec": {
   "display_name": "mlenv",
   "language": "python",
   "name": "python3"
  },
  "language_info": {
   "codemirror_mode": {
    "name": "ipython",
    "version": 3
   },
   "file_extension": ".py",
   "mimetype": "text/x-python",
   "name": "python",
   "nbconvert_exporter": "python",
   "pygments_lexer": "ipython3",
   "version": "3.10.18"
  }
 },
 "nbformat": 4,
 "nbformat_minor": 5
}
