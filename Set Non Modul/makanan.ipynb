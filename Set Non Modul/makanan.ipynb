{
 "cells": [
  {
   "cell_type": "markdown",
   "id": "ee54d939",
   "metadata": {},
   "source": [
    "## Menggunakan add"
   ]
  },
  {
   "cell_type": "code",
   "execution_count": 4,
   "id": "3f151309",
   "metadata": {},
   "outputs": [
    {
     "name": "stdout",
     "output_type": "stream",
     "text": [
      "{'Pecel Lele', 'Gulali', 'Nasi Goreng', 'Bakso'}\n"
     ]
    }
   ],
   "source": [
    "set_makan = {'Nasi Goreng','Gulali','Pecel Lele'}\n",
    "set_makan.add('Bakso')\n",
    "print(set_makan)"
   ]
  },
  {
   "cell_type": "markdown",
   "id": "b9114f11",
   "metadata": {},
   "source": [
    "## Menyalin Data copy"
   ]
  },
  {
   "cell_type": "code",
   "execution_count": 5,
   "id": "8da860f7",
   "metadata": {},
   "outputs": [
    {
     "name": "stdout",
     "output_type": "stream",
     "text": [
      "{'Sate Ayam', 'Dadar Telor', 'Cilok', 'Bakso'}\n",
      "{'Sate Ayam', 'permen', 'Dadar Telor', 'Bakso'}\n"
     ]
    }
   ],
   "source": [
    "set_JAJAN = {'Bakso','Dadar Telor','Sate Ayam'}\n",
    "set_jajan = set_JAJAN\n",
    "set_jajanan = set_JAJAN.copy()\n",
    "set_jajan.add('Cilok')\n",
    "set_jajanan.add('permen')\n",
    "print(set_jajan)\n",
    "print(set_jajanan)"
   ]
  },
  {
   "cell_type": "markdown",
   "id": "9adc5577",
   "metadata": {},
   "source": [
    "\n",
    "## Menambahkan dengan set lain"
   ]
  },
  {
   "cell_type": "code",
   "execution_count": 6,
   "id": "ef933a3a",
   "metadata": {},
   "outputs": [
    {
     "name": "stdout",
     "output_type": "stream",
     "text": [
      "{'Pecel Lele', 'Gulali', 'Nasi Goreng', 'Bakso', 'Sate Ayam', 'Dadar Telor'}\n"
     ]
    }
   ],
   "source": [
    "set_makan = {'Nasi Goreng','Gulali','Pecel Lele'}\n",
    "set_JAJAN = {'Bakso','Dadar Telor','Sate Ayam'}\n",
    "set_makan.update(set_JAJAN)\n",
    "print(set_makan)"
   ]
  },
  {
   "cell_type": "markdown",
   "id": "99e94647",
   "metadata": {},
   "source": [
    "## hapus hapus"
   ]
  },
  {
   "cell_type": "code",
   "execution_count": 11,
   "id": "c57412fa",
   "metadata": {},
   "outputs": [
    {
     "name": "stdout",
     "output_type": "stream",
     "text": [
      "Pecel Lele\n",
      "{'Gulali', 'Nasi Goreng'}\n"
     ]
    }
   ],
   "source": [
    "set_makan = {'Nasi Goreng','Gulali','Pecel Lele'}\n",
    "kehapus = set_makan.pop()\n",
    "print(kehapus)\n",
    "print(set_makan)"
   ]
  },
  {
   "cell_type": "markdown",
   "id": "7602127b",
   "metadata": {},
   "source": [
    "## Hapus tertentu"
   ]
  },
  {
   "cell_type": "code",
   "execution_count": 9,
   "id": "f211d9d1",
   "metadata": {},
   "outputs": [
    {
     "name": "stdout",
     "output_type": "stream",
     "text": [
      "{'Pecel Lele', 'Nasi Goreng'}\n"
     ]
    }
   ],
   "source": [
    "set_makan = {'Nasi Goreng','Gulali','Pecel Lele'}\n",
    "set_makan.remove('Gulali')\n",
    "print(set_makan)"
   ]
  }
 ],
 "metadata": {
  "kernelspec": {
   "display_name": "mlenv",
   "language": "python",
   "name": "python3"
  },
  "language_info": {
   "codemirror_mode": {
    "name": "ipython",
    "version": 3
   },
   "file_extension": ".py",
   "mimetype": "text/x-python",
   "name": "python",
   "nbconvert_exporter": "python",
   "pygments_lexer": "ipython3",
   "version": "3.10.18"
  }
 },
 "nbformat": 4,
 "nbformat_minor": 5
}
