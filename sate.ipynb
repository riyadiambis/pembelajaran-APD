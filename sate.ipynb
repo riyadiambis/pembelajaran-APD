{
 "cells": [
  {
   "cell_type": "code",
   "execution_count": 25,
   "id": "fdc0d16e",
   "metadata": {},
   "outputs": [
    {
     "name": "stdout",
     "output_type": "stream",
     "text": [
      "Nama anda Andi\n",
      "Makanan favorit saya adalah {'ayam', 'sayur', 'buah', 'nasi'}\n"
     ]
    }
   ],
   "source": [
    "list_Mahasiswa = [\"Andi\", \"Budi\", \"Citra\", \"Dewi\"]\n",
    "print(\"Nama anda\", list_Mahasiswa[0])\n",
    "\n",
    "\n",
    "set_Makanan = {\"nasi\", \"nasi\", \"ayam\", \"sayur\", \"buah\"}\n",
    "print(\"Makanan favorit saya adalah\", set_Makanan)"
   ]
  },
  {
   "cell_type": "code",
   "execution_count": 26,
   "id": "519ee941",
   "metadata": {},
   "outputs": [
    {
     "name": "stdout",
     "output_type": "stream",
     "text": [
      "{'ayam', 'sayur', 'buah', 'nasi'}\n"
     ]
    }
   ],
   "source": [
    "list_Makanan = [\"nasi\", \"ayam\", \"ayam\", \"ayam\", \"sayur\", \"buah\"]\n",
    "list_Makanan2 = set(list_Makanan)\n",
    "\n",
    "print( list_Makanan2)\n"
   ]
  },
  {
   "cell_type": "code",
   "execution_count": 27,
   "id": "ae5edba8",
   "metadata": {},
   "outputs": [
    {
     "name": "stdout",
     "output_type": "stream",
     "text": [
      "Minuman saya adalah jus\n",
      "Minuman saya adalah air\n",
      "Minuman saya adalah teh\n",
      "Minuman saya adalah susu\n"
     ]
    }
   ],
   "source": [
    "set_Minuman = {\"air\", \"jus\", \"susu\", \"teh\"}\n",
    "\n",
    "for minum in set_Minuman:\n",
    "    print(f\"Minuman saya adalah {minum}\")"
   ]
  },
  {
   "cell_type": "code",
   "execution_count": 37,
   "id": "9ab53659",
   "metadata": {},
   "outputs": [
    {
     "name": "stdout",
     "output_type": "stream",
     "text": [
      "None\n",
      "{'jus', 'teh', 'susu'}\n",
      "{'jus', 'teh', 'susu'}\n"
     ]
    }
   ],
   "source": [
    "\n",
    "set_Minuman = {\"air\", \"jus\", \"susu\", \"teh\"}\n",
    "# set_Minuman.add(\"kopi\")\n",
    "# print(set_Minuman)\n",
    "\n",
    "hapus = set_Minuman.remove(\"air\")\n",
    "print(hapus) #Ini akan menghapus item 'teh' dari set, tapi bakalan menampilkan pesan error kalau tidak ada\n",
    "print(set_Minuman)\n",
    "\n",
    "set_Minuman.discard(\"Air Putih\")\n",
    "print(set_Minuman)"
   ]
  },
  {
   "cell_type": "markdown",
   "id": "8a984b73",
   "metadata": {},
   "source": [
    "## Operasi Penggabungan"
   ]
  },
  {
   "cell_type": "code",
   "execution_count": 40,
   "id": "f5490635",
   "metadata": {},
   "outputs": [
    {
     "name": "stdout",
     "output_type": "stream",
     "text": [
      "{'ayam', 'jus', 'susu', 'buah', 'air', 'teh', 'nasi', 'sayur'}\n",
      "ini yang ada beririsan {'ayam', 'buah', 'telur', 'nasi', 'ikan', 'sayur'}\n"
     ]
    }
   ],
   "source": [
    "set_Makanan = {\"nasi\", \"nasi\", \"ayam\", \"sayur\", \"buah\"}\n",
    "set_Makanan2 = {\"nasi\", \"ayam\", \"ikan\", \"telur\"}\n",
    "set_Minuman = {\"air\", \"jus\", \"susu\", \"teh\"}\n",
    "\n",
    "set_All = set_Makanan.union(set_Minuman)\n",
    "print(set_All)\n",
    "\n",
    "\n",
    "set_Makanan_bagungan = set_Makanan.union(set_Makanan2)\n",
    "print(\"ini yang ada beririsan\",set_Makanan_bagungan)\n",
    "\n"
   ]
  },
  {
   "cell_type": "markdown",
   "id": "cce06704",
   "metadata": {},
   "source": [
    "## Mencarin yang ada di tengah"
   ]
  },
  {
   "cell_type": "code",
   "execution_count": 43,
   "id": "cf07268c",
   "metadata": {},
   "outputs": [
    {
     "name": "stdout",
     "output_type": "stream",
     "text": [
      "ini yang sama set()\n"
     ]
    }
   ],
   "source": [
    "set_Makanan = {\"nasi\", \"nasi\", \"ayam\", \"sayur\", \"buah\"}\n",
    "set_Makanan2 = {\"nasi\", \"ayam\", \"ikan\", \"telur\"}\n",
    "\n",
    "set_Sama = set_Makanan.intersection(set_Minuman)\n",
    "print(\"ini yang sama\", set_Sama)"
   ]
  },
  {
   "cell_type": "code",
   "execution_count": 44,
   "id": "7a1dcf10",
   "metadata": {},
   "outputs": [
    {
     "name": "stdout",
     "output_type": "stream",
     "text": [
      "ini yang ada di set makanan saja {'buah', 'sayur'}\n"
     ]
    }
   ],
   "source": [
    "set_A_saja = set_Makanan.difference(set_Makanan2)\n",
    "print(\"ini yang ada di set makanan saja\", set_A_saja)"
   ]
  },
  {
   "cell_type": "code",
   "execution_count": 57,
   "id": "066a8a34",
   "metadata": {},
   "outputs": [
    {
     "name": "stdout",
     "output_type": "stream",
     "text": [
      "ini setelah di update {'ayam', 'telur', 'nasi', 'ikan', 'sayur'}\n"
     ]
    }
   ],
   "source": [
    "set_A = {\"nasi\", \"ayam\", \"ikan\", \"telur\"}\n",
    "set_B = {\"nasi\", \"ayam\", \"sayur\"}\n",
    "\n",
    "set_A.update(set_B)\n",
    "print(\"ini setelah di update\", set_A)"
   ]
  },
  {
   "cell_type": "code",
   "execution_count": 52,
   "id": "205023c6",
   "metadata": {},
   "outputs": [
    {
     "name": "stdout",
     "output_type": "stream",
     "text": [
      "ini setelah di update None\n"
     ]
    }
   ],
   "source": [
    "set_Update = set_Makanan.update(set_Makanan2)\n",
    "print(\"ini setelah di update\", set_Update)"
   ]
  },
  {
   "cell_type": "markdown",
   "id": "e2f46bd2",
   "metadata": {},
   "source": [
    "## dictionary\n"
   ]
  },
  {
   "cell_type": "code",
   "execution_count": 61,
   "id": "9ad3934d",
   "metadata": {},
   "outputs": [
    {
     "name": "stdout",
     "output_type": "stream",
     "text": [
      "{'Buku1': 'Bumi Manusia', 'Buku2': 'Laut Bercerita'}\n"
     ]
    }
   ],
   "source": [
    "Daftar_buku = {\n",
    "\"Buku1\" : \"Bumi Manusia\",\n",
    "\"Buku2\" : \"Laut Bercerita\"\n",
    "}\n",
    "\n",
    "\n",
    "print(Daftar_buku)\n"
   ]
  },
  {
   "cell_type": "code",
   "execution_count": null,
   "id": "c0ba1bdb",
   "metadata": {},
   "outputs": [],
   "source": [
    "Biodata = {\n",
    "    \"nama\":\"ahnaf\",\n",
    "    \"umur\":19,\n",
    "    \"nim\":\"2409106035\" }"
   ]
  },
  {
   "cell_type": "code",
   "execution_count": 67,
   "id": "11df552e",
   "metadata": {},
   "outputs": [
    {
     "name": "stdout",
     "output_type": "stream",
     "text": [
      "daffahrhap\n"
     ]
    }
   ],
   "source": [
    "Biodata = {\n",
    "\"Nama\" : \"Ananda Daffa Harahap\",\n",
    "\"NIM\" : 2409106050,\n",
    "\"KRS\" : [\"Pemrograman Web\", \"Struktur Data\", \"Basis Data\"],\n",
    "\"Mahasiswa_Aktif\" : True,\n",
    "\"Social Media\" : {\"Instagram\" : \"daffahrhap\"\n",
    "}\n",
    "}\n",
    "\n",
    "print(Biodata[\"Social Media\"][\"Instagram\"])"
   ]
  },
  {
   "cell_type": "code",
   "execution_count": 72,
   "id": "db6ee67b",
   "metadata": {},
   "outputs": [
    {
     "name": "stdout",
     "output_type": "stream",
     "text": [
      "nama saya adalah Ananda Daffa Harahap\n",
      "Instagram : daffahrhap\n",
      "nama saya adalah Ananda Daffa Harahap\n",
      "Ananda Daffa Harahap\n",
      "orangnya pindah\n"
     ]
    },
    {
     "ename": "KeyError",
     "evalue": "'Alamat'",
     "output_type": "error",
     "traceback": [
      "\u001b[1;31m---------------------------------------------------------------------------\u001b[0m",
      "\u001b[1;31mKeyError\u001b[0m                                  Traceback (most recent call last)",
      "Cell \u001b[1;32mIn[72], line 8\u001b[0m\n\u001b[0;32m      4\u001b[0m \u001b[38;5;28mprint\u001b[39m(Biodata\u001b[38;5;241m.\u001b[39mget(\u001b[38;5;124m\"\u001b[39m\u001b[38;5;124mNama\u001b[39m\u001b[38;5;124m\"\u001b[39m))\n\u001b[0;32m      6\u001b[0m \u001b[38;5;28mprint\u001b[39m(Biodata\u001b[38;5;241m.\u001b[39mget(\u001b[38;5;124m\"\u001b[39m\u001b[38;5;124mAlamat\u001b[39m\u001b[38;5;124m\"\u001b[39m, \u001b[38;5;124m\"\u001b[39m\u001b[38;5;124morangnya pindah\u001b[39m\u001b[38;5;124m\"\u001b[39m))\n\u001b[1;32m----> 8\u001b[0m \u001b[38;5;28mprint\u001b[39m(\u001b[38;5;124mf\u001b[39m\u001b[38;5;124m\"\u001b[39m\u001b[38;5;124mnama saya adalah \u001b[39m\u001b[38;5;132;01m{\u001b[39;00m\u001b[43mBiodata\u001b[49m\u001b[43m[\u001b[49m\u001b[38;5;124;43m'\u001b[39;49m\u001b[38;5;124;43mAlamat\u001b[39;49m\u001b[38;5;124;43m'\u001b[39;49m\u001b[43m]\u001b[49m\u001b[38;5;132;01m}\u001b[39;00m\u001b[38;5;124m\"\u001b[39m)\n",
      "\u001b[1;31mKeyError\u001b[0m: 'Alamat'"
     ]
    }
   ],
   "source": [
    "print(f\"nama saya adalah {Biodata['Nama']}\")\n",
    "print(f\"Instagram : {Biodata['Social Media']['Instagram']}\")\n",
    "print(f\"nama saya adalah {Biodata.get('Nama')}\")\n",
    "print(Biodata.get(\"Nama\"))\n",
    "\n",
    "print(Biodata.get(\"Alamat\", \"orangnya pindah\"))\n",
    "\n",
    "print(f\"nama saya adalah {Biodata['Alamat']}\")"
   ]
  },
  {
   "cell_type": "code",
   "execution_count": null,
   "id": "6ba0035c",
   "metadata": {},
   "outputs": [],
   "source": []
  },
  {
   "cell_type": "code",
   "execution_count": 91,
   "id": "e7eb96c6",
   "metadata": {},
   "outputs": [
    {
     "name": "stdout",
     "output_type": "stream",
     "text": [
      "Matematika\n",
      "B. Indonesia\n",
      "B. Inggris\n",
      "Kimia\n",
      "Fisika\n",
      "\n",
      "['__class__', '__class_getitem__', '__contains__', '__delattr__', '__delitem__', '__dir__', '__doc__', '__eq__', '__format__', '__ge__', '__getattribute__', '__getitem__', '__gt__', '__hash__', '__init__', '__init_subclass__', '__ior__', '__iter__', '__le__', '__len__', '__lt__', '__ne__', '__new__', '__or__', '__reduce__', '__reduce_ex__', '__repr__', '__reversed__', '__ror__', '__setattr__', '__setitem__', '__sizeof__', '__str__', '__subclasshook__', 'clear', 'copy', 'fromkeys', 'get', 'items', 'keys', 'pop', 'popitem', 'setdefault', 'update', 'values']\n",
      "['__class__', '__class_getitem__', '__contains__', '__delattr__', '__delitem__', '__dir__', '__doc__', '__eq__', '__format__', '__ge__', '__getattribute__', '__getitem__', '__gt__', '__hash__', '__init__', '__init_subclass__', '__ior__', '__iter__', '__le__', '__len__', '__lt__', '__ne__', '__new__', '__or__', '__reduce__', '__reduce_ex__', '__repr__', '__reversed__', '__ror__', '__setattr__', '__setitem__', '__sizeof__', '__str__', '__subclasshook__', 'clear', 'copy', 'fromkeys', 'get', 'items', 'keys', 'pop', 'popitem', 'setdefault', 'update', 'values']\n",
      "['__class__', '__class_getitem__', '__contains__', '__delattr__', '__delitem__', '__dir__', '__doc__', '__eq__', '__format__', '__ge__', '__getattribute__', '__getitem__', '__gt__', '__hash__', '__init__', '__init_subclass__', '__ior__', '__iter__', '__le__', '__len__', '__lt__', '__ne__', '__new__', '__or__', '__reduce__', '__reduce_ex__', '__repr__', '__reversed__', '__ror__', '__setattr__', '__setitem__', '__sizeof__', '__str__', '__subclasshook__', 'clear', 'copy', 'fromkeys', 'get', 'items', 'keys', 'pop', 'popitem', 'setdefault', 'update', 'values']\n",
      "['__class__', '__class_getitem__', '__contains__', '__delattr__', '__delitem__', '__dir__', '__doc__', '__eq__', '__format__', '__ge__', '__getattribute__', '__getitem__', '__gt__', '__hash__', '__init__', '__init_subclass__', '__ior__', '__iter__', '__le__', '__len__', '__lt__', '__ne__', '__new__', '__or__', '__reduce__', '__reduce_ex__', '__repr__', '__reversed__', '__ror__', '__setattr__', '__setitem__', '__sizeof__', '__str__', '__subclasshook__', 'clear', 'copy', 'fromkeys', 'get', 'items', 'keys', 'pop', 'popitem', 'setdefault', 'update', 'values']\n",
      "['__class__', '__class_getitem__', '__contains__', '__delattr__', '__delitem__', '__dir__', '__doc__', '__eq__', '__format__', '__ge__', '__getattribute__', '__getitem__', '__gt__', '__hash__', '__init__', '__init_subclass__', '__ior__', '__iter__', '__le__', '__len__', '__lt__', '__ne__', '__new__', '__or__', '__reduce__', '__reduce_ex__', '__repr__', '__reversed__', '__ror__', '__setattr__', '__setitem__', '__sizeof__', '__str__', '__subclasshook__', 'clear', 'copy', 'fromkeys', 'get', 'items', 'keys', 'pop', 'popitem', 'setdefault', 'update', 'values']\n"
     ]
    }
   ],
   "source": [
    "Nilai = {\n",
    "\"Matematika\": 80,\n",
    "\"B. Indonesia\": 90,\n",
    "\"B. Inggris\": 81,\n",
    "\"Kimia\": 78,\n",
    "\"Fisika\": 80\n",
    "}\n",
    "# Tanpa menggunakan items()\n",
    "for i in Nilai:\n",
    "    print(i)\n",
    "print(\"\") # pemisah\n",
    "# Menggunakan items()\n",
    "for matkul in Nilai.values():\n",
    "    print(dir(Nilai))"
   ]
  },
  {
   "cell_type": "code",
   "execution_count": 81,
   "id": "326195c6",
   "metadata": {},
   "outputs": [
    {
     "name": "stdout",
     "output_type": "stream",
     "text": [
      "{'Avenger Endgame': 'Action', 'Sherlock Holmes': 'Mystery', 'The Conjuring': 'Horror'}\n",
      "{'Avenger Endgame': 'Action', 'Sherlock Holmes': 'Mystery', 'The Conjuring': 'Horror', 'Zombieland': 'Comedy', 'aadc': 'romance', 'Hours': 'Thriller', 'riyadi': 'aslab'}\n",
      "{'Avenger Endgame': 'Action', 'Sherlock Holmes': 'Action', 'The Conjuring': 'Tragedy', 'Zombieland': 'Comedy', 'aadc': 'romance', 'Hours': 'Thriller', 'riyadi': 'aslab'}\n"
     ]
    }
   ],
   "source": [
    "Film = {\n",
    "\"Avenger Endgame\" : \"Action\",\n",
    "\"Sherlock Holmes\" : \"Mystery\",\n",
    "\"The Conjuring\" : \"Horror\"\n",
    "}\n",
    "\n",
    "print(Film)\n",
    "Film[\"Zombieland\"] = \"Comedy\"\n",
    "Film[\"aadc\"]=\"romance\"\n",
    "Film.update({\"Hours\" : \"Thriller\", \"riyadi\":\"aslab\"})\n",
    "# #Setelah Ditambah\n",
    "print(Film)\n",
    "\n",
    "\n",
    "Film[\"Sherlock Holmes\"] = \"Action\"\n",
    "Film.update({\"The Conjuring\" : \"Tragedy\"})\n",
    "print(Film)"
   ]
  },
  {
   "cell_type": "code",
   "execution_count": null,
   "id": "8bffe420",
   "metadata": {},
   "outputs": [
    {
     "name": "stdout",
     "output_type": "stream",
     "text": [
      "Dictionary yang telah disalin :  {'Buku1': 'Bumi Manusia', 'Buku2': 'Laut Bercerita'}\n"
     ]
    }
   ],
   "source": [
    "# data = {\n",
    "# \"Nama\" : \"Dwiki pdf\",\n",
    "# \"Umur\" : 19,\n",
    "# \"Jurusan\" : \"Informatika\"\n",
    "# }\n",
    "# #Sebelum Dihapus\n",
    "# print(data)\n",
    "# data.clear()\n",
    "# print(data)\n",
    "\n",
    "\n",
    "buku = {\n",
    "\"Buku1\" : \"Bumi Manusia\",\n",
    "\"Buku2\" : \"Laut Bercerita\"\n",
    "}\n",
    "pinjam = buku.copy()\n",
    "\n",
    "# pinjam = {\n",
    "# \"Buku1\" : \"Bumi Manusia\",\n",
    "# \"Buku2\" : \"Laut Bercerita\"\n",
    "# }\n",
    "print(\"Dictionary yang telah disalin : \", pinjam)\n",
    "\n"
   ]
  },
  {
   "cell_type": "code",
   "execution_count": 96,
   "id": "4a279a0b",
   "metadata": {},
   "outputs": [
    {
     "name": "stdout",
     "output_type": "stream",
     "text": [
      "{1: ('apel', 'jeruk', 'mangga'), 5: ('apel', 'jeruk', 'mangga')}\n"
     ]
    }
   ],
   "source": [
    "value = \"apel\", \"jeruk\", \"mangga\"\n",
    "key = 1,5,5\n",
    "buah = dict.fromkeys(key,value)\n",
    "print(buah)\n"
   ]
  },
  {
   "cell_type": "code",
   "execution_count": 97,
   "id": "3e5c2799",
   "metadata": {},
   "outputs": [
    {
     "name": "stdout",
     "output_type": "stream",
     "text": [
      "{'Matematika': 80, 'B. Indonesia': 90, 'B. Inggris': 81}\n",
      "\n",
      "Nilai :  70\n",
      "\n",
      "{'Matematika': 80, 'B. Indonesia': 90, 'B. Inggris': 81, 'Kimia': 70}\n"
     ]
    }
   ],
   "source": [
    "Nilai = {\n",
    "\"Matematika\" : 80,\n",
    "\"B. Indonesia\" : 90,\n",
    "\"B. Inggris\" : 81\n",
    "}\n",
    "#sebelum Setdefault\n",
    "print(Nilai)\n",
    "print(\"\")\n",
    "#menggunakan setdefault\n",
    "print(\"Nilai : \", Nilai.setdefault(\"Kimia\", 70))\n",
    "print(\"\")\n",
    "#setelah menggunakan setdefault\n",
    "print(Nilai)"
   ]
  },
  {
   "cell_type": "code",
   "execution_count": null,
   "id": "06493271",
   "metadata": {},
   "outputs": [
    {
     "name": "stdout",
     "output_type": "stream",
     "text": [
      "Musik milik The Chainsmoker adalah : \n",
      "All we Know\n",
      "The Paris\n",
      "\n",
      "Musik milik Alan Walker adalah : \n",
      "Alone\n",
      "Lily\n",
      "\n",
      "Musik milik Neffex adalah : \n",
      "Best of Me\n",
      "Memories\n",
      "\n"
     ]
    }
   ],
   "source": [
    "Musik = {\n",
    "\"The Chainsmoker\" : [\"All we Know\", \"The Paris\"],\n",
    "\"Alan Walker\" : [\"Alone\", \"Lily\"],\n",
    "\"Neffex\" : [\"Best of Me\", \"Memories\"]\n",
    "}\n",
    "for key, value in Musik.items():\n",
    "    print(f\"Musik milik {i} adalah : \")\n",
    "    for song in value:\n",
    "        print(song)\n",
    "    print(\"\")"
   ]
  },
  {
   "cell_type": "code",
   "execution_count": 101,
   "id": "4a0fe7c8",
   "metadata": {},
   "outputs": [],
   "source": [
    "# Data keuangan\n",
    "keuangan = {\n",
    "'pengeluaran': [2, 2.5, 2.25, 2.5, 3.2, 2.5, 3.5, 4, 3],\n",
    "'pemasukan': [7.8, 7.5, 9, 7.6, 7.2, 7.5, 7, 10, 7.5]\n",
    "}\n",
    "# Perhitungan rata-rata pemasukan dan rata-rata pengeluaran\n",
    "total_pengeluaran = 0\n",
    "total_pemasukan = 0\n"
   ]
  },
  {
   "cell_type": "code",
   "execution_count": 102,
   "id": "452504c5",
   "metadata": {},
   "outputs": [],
   "source": [
    "for biaya in keuangan['pengeluaran']: \n",
    "    total_pengeluaran += biaya\n"
   ]
  },
  {
   "cell_type": "code",
   "execution_count": 103,
   "id": "7b007a93",
   "metadata": {},
   "outputs": [
    {
     "name": "stdout",
     "output_type": "stream",
     "text": [
      "2.8277777777777775\n",
      "7.8999999999999995\n"
     ]
    }
   ],
   "source": [
    "for biaya in keuangan['pemasukan']: \n",
    "    total_pemasukan += biaya\n",
    "rata_rata_pengeluaran = total_pengeluaran / len(keuangan['pengeluaran'])\n",
    "rata_rata_pemasukan = total_pemasukan / len(keuangan['pemasukan'])\n",
    "print(rata_rata_pengeluaran) \n",
    "print(rata_rata_pemasukan)"
   ]
  }
 ],
 "metadata": {
  "kernelspec": {
   "display_name": "mlenv",
   "language": "python",
   "name": "python3"
  },
  "language_info": {
   "codemirror_mode": {
    "name": "ipython",
    "version": 3
   },
   "file_extension": ".py",
   "mimetype": "text/x-python",
   "name": "python",
   "nbconvert_exporter": "python",
   "pygments_lexer": "ipython3",
   "version": "3.10.18"
  }
 },
 "nbformat": 4,
 "nbformat_minor": 5
}
